{
 "cells": [
  {
   "cell_type": "markdown",
   "metadata": {},
   "source": [
    "# Basic Visualisation procedure"
   ]
  },
  {
   "cell_type": "markdown",
   "metadata": {},
   "source": [
    "For visualisation we will take our pretrained model ,and use it in inference mode, we preprocess every sentence to make it \n",
    "model compatible, then during inferencing , we will cache the output at the \"add\" layer ,since  max function used during\n",
    "Globalmaxpooling is not invertible ,we cannot  find the exact argument responsible for result of max operation .That is why we cache\n",
    "it, As it becomes clear from the image below of our network"
   ]
  },
  {
   "cell_type": "code",
   "execution_count": 5,
   "metadata": {
    "collapsed": false
   },
   "outputs": [],
   "source": [
    "import models.multichannel as ml"
   ]
  },
  {
   "cell_type": "code",
   "execution_count": 53,
   "metadata": {
    "collapsed": true
   },
   "outputs": [],
   "source": [
    "from keras.preprocessing.sequence import pad_sequences"
   ]
  },
  {
   "cell_type": "code",
   "execution_count": 6,
   "metadata": {
    "collapsed": true
   },
   "outputs": [],
   "source": [
    "import numpy as np\n",
    "import pickle\n"
   ]
  },
  {
   "cell_type": "code",
   "execution_count": 8,
   "metadata": {
    "collapsed": false
   },
   "outputs": [],
   "source": [
    "dic=pickle.load(open(\"weights/polarity_model/word2index.p\",\"rb\"))\n",
    "matrix=np.load(\"weights/polarity_model/embedding_matrix.npy\")"
   ]
  },
  {
   "cell_type": "code",
   "execution_count": 11,
   "metadata": {
    "collapsed": true
   },
   "outputs": [],
   "source": [
    "model=ml.multichannel(nb_classes=1,matrix=matrix,input_len=250,drop=False,vocab_size=15000)\n",
    "model.load_weights(\"weights/polarity.h5\")"
   ]
  },
  {
   "cell_type": "code",
   "execution_count": 18,
   "metadata": {
    "collapsed": true
   },
   "outputs": [],
   "source": [
    "def preprocess(text):\n",
    "    #preprocess any query to make it model compatible\n",
    "    temp=[]\n",
    "    for word in text.strip().split():\n",
    "        print(word)\n",
    "        if word in word2index: \n",
    "            if word2index[word] < vocab_size:\n",
    "                temp.append(word2index[word])\n",
    "            else:\n",
    "                temp.append(vocab_size+1)\n",
    "        \n",
    "    return temp"
   ]
  },
  {
   "cell_type": "code",
   "execution_count": 391,
   "metadata": {
    "collapsed": true
   },
   "outputs": [],
   "source": [
    "#model parameters ,fixed for a given dataset\n",
    "max_len=250\n",
    "word2index=dic\n",
    "vocab_size=15000"
   ]
  },
  {
   "cell_type": "code",
   "execution_count": 22,
   "metadata": {
    "collapsed": false
   },
   "outputs": [],
   "source": [
    "check=model.layers[-3].output"
   ]
  },
  {
   "cell_type": "markdown",
   "metadata": {},
   "source": [
    "Rather than going through all the weights(w) of the last layer, we can take the max of the weights in first 100 weights,this \n",
    "makes it a little bit simpler , because first 100 features correspond to convulational layers of kernel size (2), and make a little\n",
    "bit easier to map to the words of given sentence, it is not exactly accurate to visualize the contribution of each word in \n",
    "making decision based on a single weight, but it can give some intuition "
   ]
  },
  {
   "cell_type": "code",
   "execution_count": 393,
   "metadata": {
    "collapsed": false
   },
   "outputs": [],
   "source": [
    "sess=K.get_session()"
   ]
  },
  {
   "cell_type": "code",
   "execution_count": 387,
   "metadata": {
    "collapsed": false
   },
   "outputs": [],
   "source": [
    "w=model.layers[-1].get_weights()[0]\n",
    "arg=np.argmax(w[:100])\n",
    "arg,w[arg]\n"
   ]
  },
  {
   "cell_type": "markdown",
   "metadata": {},
   "source": [
    "We can use almost max positive weight for visualisation, since this will have quite high effect on driving our output\n",
    "towards  1 , we can use this to get to know relative values of words in a sentence"
   ]
  },
  {
   "cell_type": "code",
   "execution_count": 411,
   "metadata": {
    "collapsed": true
   },
   "outputs": [],
   "source": [
    "test=\"i hope you live a better life \""
   ]
  },
  {
   "cell_type": "code",
   "execution_count": 414,
   "metadata": {
    "collapsed": false
   },
   "outputs": [
    {
     "name": "stdout",
     "output_type": "stream",
     "text": [
      "i\n",
      "hope\n",
      "you\n",
      "live\n",
      "a\n",
      "better\n",
      "life\n",
      "(1, 250)\n",
      "[[0.8556169]]\n"
     ]
    },
    {
     "data": {
      "text/plain": [
       "(250,)"
      ]
     },
     "execution_count": 414,
     "metadata": {},
     "output_type": "execute_result"
    }
   ],
   "source": [
    "sequence=preprocess(test)\n",
    "size=len(sequence)\n",
    "inp=pad_sequences([sequence],maxlen=max_len)\n",
    "print(inp.shape)\n",
    "prediction,activations=sess.run([model.output,check],feed_dict={model.input:inp})\n",
    "print(prediction)\n",
    "activations=activations[0,:,arg]\n",
    "activations.shape"
   ]
  },
  {
   "cell_type": "code",
   "execution_count": 415,
   "metadata": {
    "collapsed": false
   },
   "outputs": [
    {
     "data": {
      "text/plain": [
       "<matplotlib.colorbar.Colorbar at 0x1c476cb0978>"
      ]
     },
     "execution_count": 415,
     "metadata": {},
     "output_type": "execute_result"
    },
    {
     "data": {
      "image/png": "[encoded data removed]",
      "text/plain": [
       "<matplotlib.figure.Figure at 0x1c476907080>"
      ]
     },
     "metadata": {},
     "output_type": "display_data"
    }
   ],
   "source": [
    "plt.imshow(activations[-size:].reshape(1,-1),interpolation=\"nearest\")\n",
    "plt.colorbar()\n"
   ]
  },
  {
   "cell_type": "markdown",
   "metadata": {},
   "source": [
    "We see above a kind of reative importance of words in a given sentence for making a decision, in above example, word \"better\"\n",
    "have high weightage"
   ]
  },
  {
   "cell_type": "code",
   "execution_count": null,
   "metadata": {
    "collapsed": true
   },
   "outputs": [],
   "source": []
  }
 ],
 "metadata": {
  "anaconda-cloud": {},
  "kernelspec": {
   "display_name": "Python [conda env:Anaconda3]",
   "language": "python",
   "name": "conda-env-Anaconda3-py"
  },
  "language_info": {
   "codemirror_mode": {
    "name": "ipython",
    "version": 3
   },
   "file_extension": ".py",
   "mimetype": "text/x-python",
   "name": "python",
   "nbconvert_exporter": "python",
   "pygments_lexer": "ipython3",
   "version": "3.5.2"
  }
 },
 "nbformat": 4,
 "nbformat_minor": 1
}
